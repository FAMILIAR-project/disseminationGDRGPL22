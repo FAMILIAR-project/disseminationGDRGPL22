{
 "cells": [
  {
   "cell_type": "markdown",
   "metadata": {},
   "source": [
    "# Dissémination en science du logiciel\n",
    "\n",
    "https://framaforms.org/initiatives-de-mediation-en-science-du-logiciel-1653468553\n",
    "\n",
    "GDRGPL 9 juin 2022"
   ]
  },
  {
   "cell_type": "code",
   "execution_count": 1,
   "metadata": {},
   "outputs": [
    {
     "data": {
      "text/html": [
       "<div>\n",
       "<style scoped>\n",
       "    .dataframe tbody tr th:only-of-type {\n",
       "        vertical-align: middle;\n",
       "    }\n",
       "\n",
       "    .dataframe tbody tr th {\n",
       "        vertical-align: top;\n",
       "    }\n",
       "\n",
       "    .dataframe thead th {\n",
       "        text-align: right;\n",
       "    }\n",
       "</style>\n",
       "<table border=\"1\" class=\"dataframe\">\n",
       "  <thead>\n",
       "    <tr style=\"text-align: right;\">\n",
       "      <th></th>\n",
       "      <th>Séquentiel</th>\n",
       "      <th>SID</th>\n",
       "      <th>Heure de soumission</th>\n",
       "      <th>Heure de complétion</th>\n",
       "      <th>Heure de modification</th>\n",
       "      <th>Brouillon</th>\n",
       "      <th>Adresse IP</th>\n",
       "      <th>UID</th>\n",
       "      <th>Nom d'utilisateur</th>\n",
       "      <th>Avez-vous déjà participé à de la médiation dans le contexte Génie de la Programmation et du Logiciel (GPL) ? Si oui, accepteriez-vous de nous en dire un peu plus? (lien/support, cible/audience, etc)</th>\n",
       "      <th>...</th>\n",
       "      <th>autres</th>\n",
       "      <th>Autre (champ libre pour préciser si nécessaire les supports)</th>\n",
       "      <th>incompréhension des collègues d’autres domaines</th>\n",
       "      <th>absence de public</th>\n",
       "      <th>difficulté à attirer des étudiants</th>\n",
       "      <th>difficulté de l’inclusion</th>\n",
       "      <th>le public croit savoir</th>\n",
       "      <th>A priori, le logiciel est invisible (sauf quand il échoue), ne se touche pas, ne s'entend pas... comment faites-vous pour expliquer le logiciel, ses enjeux et ses problématiques ?</th>\n",
       "      <th>Y a-t-il des initiatives, hors informatique (astrophysique, chimie, histoire, philosophie, etc.), que vous aimeriez voir transposer au GPL?</th>\n",
       "      <th>Des idées/commentaires sur la dissémination</th>\n",
       "    </tr>\n",
       "  </thead>\n",
       "  <tbody>\n",
       "    <tr>\n",
       "      <th>0</th>\n",
       "      <td>2</td>\n",
       "      <td>12262409</td>\n",
       "      <td>25/05/2022 - 18:12</td>\n",
       "      <td>25/05/2022 - 18:12</td>\n",
       "      <td>25/05/2022 - 18:12</td>\n",
       "      <td>0</td>\n",
       "      <td>0.0.0.0</td>\n",
       "      <td>0</td>\n",
       "      <td>Anonymous</td>\n",
       "      <td>Non</td>\n",
       "      <td>...</td>\n",
       "      <td>NaN</td>\n",
       "      <td>NaN</td>\n",
       "      <td>X</td>\n",
       "      <td>X</td>\n",
       "      <td>X</td>\n",
       "      <td>NaN</td>\n",
       "      <td>NaN</td>\n",
       "      <td>Quelques lignes de code dans une fusée, c'est ...</td>\n",
       "      <td>NaN</td>\n",
       "      <td>NaN</td>\n",
       "    </tr>\n",
       "    <tr>\n",
       "      <th>1</th>\n",
       "      <td>3</td>\n",
       "      <td>12262621</td>\n",
       "      <td>25/05/2022 - 18:28</td>\n",
       "      <td>25/05/2022 - 18:28</td>\n",
       "      <td>25/05/2022 - 18:28</td>\n",
       "      <td>0</td>\n",
       "      <td>0.0.0.0</td>\n",
       "      <td>0</td>\n",
       "      <td>Anonymous</td>\n",
       "      <td>J'ai participé au festival pint of science, à ...</td>\n",
       "      <td>...</td>\n",
       "      <td>X</td>\n",
       "      <td>interventions dans les écoles et dans l'espace...</td>\n",
       "      <td>NaN</td>\n",
       "      <td>NaN</td>\n",
       "      <td>NaN</td>\n",
       "      <td>X</td>\n",
       "      <td>NaN</td>\n",
       "      <td>l'art et la discussion</td>\n",
       "      <td>résidences d'artistes dans les labos\\r\\natelie...</td>\n",
       "      <td>NaN</td>\n",
       "    </tr>\n",
       "    <tr>\n",
       "      <th>2</th>\n",
       "      <td>4</td>\n",
       "      <td>12269718</td>\n",
       "      <td>27/05/2022 - 00:04</td>\n",
       "      <td>27/05/2022 - 00:04</td>\n",
       "      <td>27/05/2022 - 00:04</td>\n",
       "      <td>0</td>\n",
       "      <td>0.0.0.0</td>\n",
       "      <td>0</td>\n",
       "      <td>Anonymous</td>\n",
       "      <td>Pas encore.</td>\n",
       "      <td>...</td>\n",
       "      <td>X</td>\n",
       "      <td>Plus tard.</td>\n",
       "      <td>X</td>\n",
       "      <td>NaN</td>\n",
       "      <td>NaN</td>\n",
       "      <td>NaN</td>\n",
       "      <td>X</td>\n",
       "      <td>Plus tard.</td>\n",
       "      <td>À voir.</td>\n",
       "      <td>Plus tard.</td>\n",
       "    </tr>\n",
       "    <tr>\n",
       "      <th>3</th>\n",
       "      <td>5</td>\n",
       "      <td>12271548</td>\n",
       "      <td>27/05/2022 - 10:46</td>\n",
       "      <td>27/05/2022 - 10:46</td>\n",
       "      <td>27/05/2022 - 10:46</td>\n",
       "      <td>0</td>\n",
       "      <td>0.0.0.0</td>\n",
       "      <td>0</td>\n",
       "      <td>Anonymous</td>\n",
       "      <td>Le besoin est apparu clairement dans un instit...</td>\n",
       "      <td>...</td>\n",
       "      <td>NaN</td>\n",
       "      <td>NaN</td>\n",
       "      <td>X</td>\n",
       "      <td>NaN</td>\n",
       "      <td>NaN</td>\n",
       "      <td>NaN</td>\n",
       "      <td>X</td>\n",
       "      <td>par des applications qui touchent le quotidien</td>\n",
       "      <td>séminaires philosophie des maths seraient tran...</td>\n",
       "      <td>reste à trouver comment toucher/impliquer plus...</td>\n",
       "    </tr>\n",
       "    <tr>\n",
       "      <th>4</th>\n",
       "      <td>6</td>\n",
       "      <td>12271870</td>\n",
       "      <td>27/05/2022 - 11:29</td>\n",
       "      <td>27/05/2022 - 11:29</td>\n",
       "      <td>27/05/2022 - 11:29</td>\n",
       "      <td>0</td>\n",
       "      <td>0.0.0.0</td>\n",
       "      <td>0</td>\n",
       "      <td>Anonymous</td>\n",
       "      <td>* Présentation du métier de chercheurs en info...</td>\n",
       "      <td>...</td>\n",
       "      <td>X</td>\n",
       "      <td>Séminaire de vulgarisation grand public</td>\n",
       "      <td>NaN</td>\n",
       "      <td>NaN</td>\n",
       "      <td>NaN</td>\n",
       "      <td>NaN</td>\n",
       "      <td>NaN</td>\n",
       "      <td>prendre des exemples concrets parlant au plus ...</td>\n",
       "      <td>NaN</td>\n",
       "      <td>NaN</td>\n",
       "    </tr>\n",
       "  </tbody>\n",
       "</table>\n",
       "<p>5 rows × 51 columns</p>\n",
       "</div>"
      ],
      "text/plain": [
       "   Séquentiel       SID Heure de soumission Heure de complétion  \\\n",
       "0           2  12262409  25/05/2022 - 18:12  25/05/2022 - 18:12   \n",
       "1           3  12262621  25/05/2022 - 18:28  25/05/2022 - 18:28   \n",
       "2           4  12269718  27/05/2022 - 00:04  27/05/2022 - 00:04   \n",
       "3           5  12271548  27/05/2022 - 10:46  27/05/2022 - 10:46   \n",
       "4           6  12271870  27/05/2022 - 11:29  27/05/2022 - 11:29   \n",
       "\n",
       "  Heure de modification  Brouillon Adresse IP  UID Nom d'utilisateur  \\\n",
       "0    25/05/2022 - 18:12          0    0.0.0.0    0         Anonymous   \n",
       "1    25/05/2022 - 18:28          0    0.0.0.0    0         Anonymous   \n",
       "2    27/05/2022 - 00:04          0    0.0.0.0    0         Anonymous   \n",
       "3    27/05/2022 - 10:46          0    0.0.0.0    0         Anonymous   \n",
       "4    27/05/2022 - 11:29          0    0.0.0.0    0         Anonymous   \n",
       "\n",
       "  Avez-vous déjà participé à de la médiation dans le contexte Génie de la Programmation et du Logiciel (GPL) ? Si oui, accepteriez-vous de nous en dire un peu plus? (lien/support, cible/audience, etc)  \\\n",
       "0                                                Non                                                                                                                                                       \n",
       "1  J'ai participé au festival pint of science, à ...                                                                                                                                                       \n",
       "2                                        Pas encore.                                                                                                                                                       \n",
       "3  Le besoin est apparu clairement dans un instit...                                                                                                                                                       \n",
       "4  * Présentation du métier de chercheurs en info...                                                                                                                                                       \n",
       "\n",
       "   ... autres Autre (champ libre pour préciser si nécessaire les supports)  \\\n",
       "0  ...    NaN                                                NaN             \n",
       "1  ...      X  interventions dans les écoles et dans l'espace...             \n",
       "2  ...      X                                         Plus tard.             \n",
       "3  ...    NaN                                                NaN             \n",
       "4  ...      X            Séminaire de vulgarisation grand public             \n",
       "\n",
       "  incompréhension des collègues d’autres domaines absence de public  \\\n",
       "0                                               X                 X   \n",
       "1                                             NaN               NaN   \n",
       "2                                               X               NaN   \n",
       "3                                               X               NaN   \n",
       "4                                             NaN               NaN   \n",
       "\n",
       "  difficulté à attirer des étudiants difficulté de l’inclusion  \\\n",
       "0                                  X                       NaN   \n",
       "1                                NaN                         X   \n",
       "2                                NaN                       NaN   \n",
       "3                                NaN                       NaN   \n",
       "4                                NaN                       NaN   \n",
       "\n",
       "  le public croit savoir  \\\n",
       "0                    NaN   \n",
       "1                    NaN   \n",
       "2                      X   \n",
       "3                      X   \n",
       "4                    NaN   \n",
       "\n",
       "  A priori, le logiciel est invisible (sauf quand il échoue), ne se touche pas, ne s'entend pas... comment faites-vous pour expliquer le logiciel, ses enjeux et ses problématiques ?  \\\n",
       "0  Quelques lignes de code dans une fusée, c'est ...                                                                                                                                    \n",
       "1                             l'art et la discussion                                                                                                                                    \n",
       "2                                         Plus tard.                                                                                                                                    \n",
       "3    par des applications qui touchent le quotidien                                                                                                                                     \n",
       "4  prendre des exemples concrets parlant au plus ...                                                                                                                                    \n",
       "\n",
       "  Y a-t-il des initiatives, hors informatique (astrophysique, chimie, histoire, philosophie, etc.), que vous aimeriez voir transposer au GPL?  \\\n",
       "0                                                NaN                                                                                            \n",
       "1  résidences d'artistes dans les labos\\r\\natelie...                                                                                            \n",
       "2                                            À voir.                                                                                            \n",
       "3  séminaires philosophie des maths seraient tran...                                                                                            \n",
       "4                                                NaN                                                                                            \n",
       "\n",
       "         Des idées/commentaires sur la dissémination  \n",
       "0                                                NaN  \n",
       "1                                                NaN  \n",
       "2                                         Plus tard.  \n",
       "3  reste à trouver comment toucher/impliquer plus...  \n",
       "4                                                NaN  \n",
       "\n",
       "[5 rows x 51 columns]"
      ]
     },
     "execution_count": 1,
     "metadata": {},
     "output_type": "execute_result"
    }
   ],
   "source": [
    "import pandas as pd\n",
    "\n",
    "df = pd.read_csv('initiatives_de_mediation_en_science_du_logiciel.csv',header=2)\n",
    "df.head()"
   ]
  },
  {
   "cell_type": "code",
   "execution_count": 2,
   "metadata": {},
   "outputs": [
    {
     "data": {
      "text/plain": [
       "Index(['Séquentiel', 'SID', 'Heure de soumission', 'Heure de complétion',\n",
       "       'Heure de modification', 'Brouillon', 'Adresse IP', 'UID',\n",
       "       'Nom d'utilisateur',\n",
       "       'Avez-vous déjà participé à de la médiation dans le contexte Génie de la Programmation et du Logiciel (GPL) ? Si oui, accepteriez-vous de nous en dire un peu plus? (lien/support, cible/audience, etc)',\n",
       "       'Quelles sont les ressources ou initiatives (possiblement internationales) de médiation dans le contexte “GPL” dont vous avez connaissance ? Une description informelle et/ou un lien sont les bienvenues.',\n",
       "       'Expliquer au grand public vos recherches',\n",
       "       'Montrer les enjeux sociétaux de vos recherches au grand public',\n",
       "       'Faire connaitre vos recherches dans un contexte industriel',\n",
       "       'Faire connaître vos recherches à d’autres scientifiques',\n",
       "       'Faire connaître vos recherches aux étudiants (après bacs)',\n",
       "       'Faire connaître vos recherches aux plus jeunes',\n",
       "       'Autre (précisez dans le champ libre)',\n",
       "       'Autre (champ libre pour préciser si nécessaire les actions de médiation)',\n",
       "       'Problème de temps', 'Problème de communication',\n",
       "       'Sujet trop technique ou inadapté en l’état à une médiation',\n",
       "       'Crainte de trop vulgariser et de trop simplifier la science',\n",
       "       'L’informatique est une science', 'Développer n’est pas coder',\n",
       "       'Vérifier n’est pas tester', 'Tester, oui mais quoi ?',\n",
       "       'Des exigences au système en production',\n",
       "       'Un ordinateur n’est jamais “intelligent”', 'Maitriser vos ordinateurs',\n",
       "       'Les variants logiciels: une richesse, mais aussi un casse-tête',\n",
       "       'Non, le calcul sur ordinateur n’est pas “vert”',\n",
       "       'Un logiciel qui se dégrade, ça veut dire quoi?', 'Autres',\n",
       "       'Autre (champ libre pour préciser si nécessaire les thématiques du GPL)',\n",
       "       'vidéo 1’', 'vidéo 3’', 'poster', 'site web interactif',\n",
       "       'articles dans des journaux ou magasines', 'des jeux', 'autres',\n",
       "       'Autre (champ libre pour préciser si nécessaire les supports)',\n",
       "       'incompréhension des collègues d’autres domaines', 'absence de public',\n",
       "       'difficulté à attirer des étudiants', 'difficulté de l’inclusion',\n",
       "       'le public croit savoir',\n",
       "       'A priori, le logiciel est invisible (sauf quand il échoue), ne se touche pas, ne s'entend pas... comment faites-vous pour expliquer le logiciel, ses enjeux et ses problématiques ?',\n",
       "       'Y a-t-il des initiatives, hors informatique (astrophysique, chimie, histoire, philosophie, etc.), que vous aimeriez voir transposer au GPL?',\n",
       "       'Des idées/commentaires sur la dissémination'],\n",
       "      dtype='object')"
      ]
     },
     "execution_count": 2,
     "metadata": {},
     "output_type": "execute_result"
    }
   ],
   "source": [
    "df.columns"
   ]
  },
  {
   "cell_type": "markdown",
   "metadata": {},
   "source": [
    "# Avez-vous déjà participé à de la médiation dans le contexte Génie de la Programmation et du Logiciel (GPL) ? Si oui, accepteriez-vous de nous en dire un peu plus? (lien/support, cible/audience, etc)"
   ]
  },
  {
   "cell_type": "code",
   "execution_count": 3,
   "metadata": {},
   "outputs": [
    {
     "name": "stdout",
     "output_type": "stream",
     "text": [
      "J'ai participé au festival pint of science, à Rennes, en 2016. C'était une discussion, dans un bar, sur le thème du browser fingerprinting et vie privée\n",
      "\n",
      "Le besoin est apparu clairement dans un institut de recherche pluridisciplinaire afin de mettre en évidence des problématiques propres au domaine GPL, pour éviter la perception \"service\" des autres départements disciplinaires.  \n",
      "\n",
      "* Présentation du métier de chercheurs en informatique : 3 interventions dans des lycées de région parisienne\r\n",
      "\r\n",
      "* Séminaire de vulgarisation scientifique tout public :\r\n",
      "- BetaMachine, Chartres, 2015 : \"sûreté et sécurité des logiciels critiques : quel pilote vaut-il mieux avoir dans l'avion ?\"\r\n",
      "- Nuits des Sciences et des Lettres, ENS Paris, 2016 : \"Quand une machine arrive à comprendre une machine : l'analyse formelle de code\"\r\n",
      "- Cité des Sciences, La Villette, 2020 : \"Quelle confiance peut-on avoir dans un logiciel ?\"\r\n",
      "\r\n",
      "* Séminaire de semi-vulgarisation (public : jeunes étudiants)\r\n",
      "- Atrium des Métiers, Sorbonne Université, 2020, \"Méthodes formelles et cybersécurité\"\r\n",
      "- Forum École Polytechnique, 2020, \"Méthodes formelles pour la sûreté et la sécurité des logiciels\"\r\n",
      "\r\n",
      "* Nombreuses présentations sur les méthodes formelles et/ou la cybersécurité pour des industriels (publics : ingénieurs et/ou low-level/high-level managers)\n",
      "\n",
      "Oui, pour le laboratoire. Une video de 5 minutes sur le département génie logiciel du labo.\r\n",
      "La vidéo devrait être disponible d'ici le 9 juin...\n",
      "\n",
      "Oui, contribution à un ouvrage destiné aux enseignants de l'enseignement primaire/fondamental (sorry pour les Belgicismes éventuels...).\r\n",
      "Voir table des matières: https://politeia.be/fr/publications/286299-eduquer+au+numerique+12+cles+pour+comprendre+linformatique\r\n",
      "\r\n",
      "Atelier de vulgarisation dans Le printemps de sciences (une semaine en FWB consacrée à des activités de médiation scientifique).\n",
      "\n",
      "Articles revue grand public REE\n",
      "\n",
      "Pas de participations pour  10  sondés sur  19\n"
     ]
    }
   ],
   "source": [
    "import numpy as np\n",
    "\n",
    "no_participation = 0\n",
    "\n",
    "for participation in df[\"Avez-vous déjà participé à de la médiation dans le contexte Génie de la Programmation et du Logiciel (GPL) ? Si oui, accepteriez-vous de nous en dire un peu plus? (lien/support, cible/audience, etc)\"]:\n",
    "    if participation is np.nan:\n",
    "        continue\n",
    "    if any(x in participation for x in ['Non', 'non', 'Pas encore.', 'no']):\n",
    "        no_participation = no_participation + 1\n",
    "        continue\n",
    "    print(participation)\n",
    "    print()\n",
    "    \n",
    "print(\"Pas de participations pour \", no_participation, ' sondés sur ', len(df))\n"
   ]
  },
  {
   "cell_type": "markdown",
   "metadata": {},
   "source": [
    "# Quelles sont les ressources ou initiatives (possiblement internationales) de médiation dans le contexte “GPL” dont vous avez connaissance ? Une description informelle et/ou un lien sont les bienvenues."
   ]
  },
  {
   "cell_type": "code",
   "execution_count": 4,
   "metadata": {},
   "outputs": [
    {
     "name": "stdout",
     "output_type": "stream",
     "text": [
      "Les journées de groupes de travaux dédiés aux industriels\n",
      "\n",
      "- Il y avait informatique débranchée, mais ce n'est pas vraiment nos résultats de recherche.\r\n",
      "- https://theconversation.com/fr\r\n",
      "- linux Mag\n",
      "\n",
      "CS unplugged\n",
      "\n",
      "Twitter\n",
      "\n",
      "À part les ouvrages, articles, sites généraux, je n’ai pas d’idées originales. Je n’ai pas participé à des actions grand public style « enseignement secondaire ». \n",
      "\n",
      "* CS unplugged (https://www.csunplugged.org/en/) pas précisément GPL mais adaptable\r\n",
      "* The Architecture of Open Source Applications (https://aosabook.org/en/index.html)\r\n",
      "* Comprendre l'informatique en jouant … avec Marie Duflot (https://members.loria.fr/MDuflot/files/mediation.html • https://www.youtube.com/playlist?list=PLWvGMqXvyJAPSMFgCiy6qVHW9bAPu93X5)\r\n",
      "* Catalyst initiative : promotion du _hacking_ de logiciels libres auprès des jeunes (https://www.catalyst.net.nz/academy)\r\n",
      "* XKCD (https://xkcd.com/)\r\n",
      "* Code project (https://www.codeproject.com/)\r\n",
      "* Interstices : revue (https://interstices.info/domaine/languages-programmation-logiciel/)\n",
      "\n"
     ]
    }
   ],
   "source": [
    "for r in df['Quelles sont les ressources ou initiatives (possiblement internationales) de médiation dans le contexte “GPL” dont vous avez connaissance ? Une description informelle et/ou un lien sont les bienvenues.']:\n",
    "    if r is np.nan:\n",
    "        continue\n",
    "    if any(x in r for x in ['Aucune', 'Plus tard.', 'pas de connaissances']):\n",
    "        continue\n",
    "    print(r)\n",
    "    print()"
   ]
  },
  {
   "cell_type": "markdown",
   "metadata": {},
   "source": [
    "# Vous avez mis en place ou vous mettriez en place des actions de médiations (échelle de 0/non à 4/oui je suis extrement favorable) pour:"
   ]
  },
  {
   "cell_type": "code",
   "execution_count": 5,
   "metadata": {},
   "outputs": [
    {
     "data": {
      "image/png": "[encoded data removed]",
      "text/plain": [
       "<Figure size 432x288 with 1 Axes>"
      ]
     },
     "metadata": {
      "needs_background": "light"
     },
     "output_type": "display_data"
    },
    {
     "data": {
      "image/png": "[encoded data removed]",
      "text/plain": [
       "<Figure size 432x288 with 1 Axes>"
      ]
     },
     "metadata": {
      "needs_background": "light"
     },
     "output_type": "display_data"
    },
    {
     "data": {
      "image/png": "[encoded data removed]",
      "text/plain": [
       "<Figure size 432x288 with 1 Axes>"
      ]
     },
     "metadata": {
      "needs_background": "light"
     },
     "output_type": "display_data"
    },
    {
     "data": {
      "image/png": "[encoded data removed]",
      "text/plain": [
       "<Figure size 432x288 with 1 Axes>"
      ]
     },
     "metadata": {
      "needs_background": "light"
     },
     "output_type": "display_data"
    },
    {
     "data": {
      "image/png": "[encoded data removed]",
      "text/plain": [
       "<Figure size 432x288 with 1 Axes>"
      ]
     },
     "metadata": {
      "needs_background": "light"
     },
     "output_type": "display_data"
    },
    {
     "data": {
      "image/png": "[encoded data removed]",
      "text/plain": [
       "<Figure size 432x288 with 1 Axes>"
      ]
     },
     "metadata": {
      "needs_background": "light"
     },
     "output_type": "display_data"
    },
    {
     "data": {
      "image/png": "[encoded data removed]",
      "text/plain": [
       "<Figure size 432x288 with 1 Axes>"
      ]
     },
     "metadata": {
      "needs_background": "light"
     },
     "output_type": "display_data"
    },
    {
     "name": "stdout",
     "output_type": "stream",
     "text": [
      "Plus tard.\n",
      "faire connaître les resultats de nos recherches aux institutions publiques  qui nous financent\r\n",
      "faire connaitre no recherches aux porteurs de projets et pôles de competitivité \n"
     ]
    }
   ],
   "source": [
    "import matplotlib.pyplot as plt\n",
    "answ_actions = ['Expliquer au grand public vos recherches',\n",
    "       'Montrer les enjeux sociétaux de vos recherches au grand public',\n",
    "       'Faire connaitre vos recherches dans un contexte industriel',\n",
    "       'Faire connaître vos recherches à d’autres scientifiques',\n",
    "       'Faire connaître vos recherches aux étudiants (après bacs)',\n",
    "       'Faire connaître vos recherches aux plus jeunes',\n",
    "       'Autre (précisez dans le champ libre)']\n",
    "\n",
    "for answ in answ_actions:\n",
    "    plt.figure()\n",
    "    df[answ].value_counts().sort_values().plot(title=answ, kind='bar')\n",
    "    plt.show()\n",
    "    \n",
    "for o in df[\"Autre (champ libre pour préciser si nécessaire les actions de médiation)\"]:\n",
    "    if o is np.nan:\n",
    "        continue\n",
    "    print(o)"
   ]
  },
  {
   "cell_type": "markdown",
   "metadata": {},
   "source": [
    "# Quelles sont les difficultés que vous avez rencontrées ou que vous pressentez ?"
   ]
  },
  {
   "cell_type": "code",
   "execution_count": 6,
   "metadata": {},
   "outputs": [
    {
     "name": "stdout",
     "output_type": "stream",
     "text": [
      "X    16\n",
      "Name: Problème de temps, dtype: int64\n",
      "\n",
      "X    9\n",
      "Name: Problème de communication, dtype: int64\n",
      "\n",
      "X    9\n",
      "Name: Sujet trop technique ou inadapté en l’état à une médiation, dtype: int64\n",
      "\n",
      "X    6\n",
      "Name: Crainte de trop vulgariser et de trop simplifier la science, dtype: int64\n",
      "\n"
     ]
    }
   ],
   "source": [
    "difficulties = ['Problème de temps', 'Problème de communication',\n",
    "       'Sujet trop technique ou inadapté en l’état à une médiation',\n",
    "       'Crainte de trop vulgariser et de trop simplifier la science']\n",
    "\n",
    "for difficulty in difficulties:\n",
    "    print(df[difficulty].value_counts())\n",
    "    print()\n",
    "    \n",
    "\n"
   ]
  },
  {
   "cell_type": "markdown",
   "metadata": {},
   "source": [
    "# Quelles sont les grandes thématiques GPL sur lesquelles il vous semble essentiel de communiquer ?"
   ]
  },
  {
   "cell_type": "code",
   "execution_count": 7,
   "metadata": {},
   "outputs": [
    {
     "name": "stdout",
     "output_type": "stream",
     "text": [
      "X    13\n",
      "Name: L’informatique est une science, dtype: int64\n",
      "\n",
      "X    16\n",
      "Name: Développer n’est pas coder, dtype: int64\n",
      "\n",
      "X    7\n",
      "Name: Vérifier n’est pas tester, dtype: int64\n",
      "\n",
      "X    9\n",
      "Name: Tester, oui mais quoi ?, dtype: int64\n",
      "\n",
      "X    8\n",
      "Name: Des exigences au système en production, dtype: int64\n",
      "\n",
      "X    14\n",
      "Name: Un ordinateur n’est jamais “intelligent”, dtype: int64\n",
      "\n",
      "X    3\n",
      "Name: Maitriser vos ordinateurs, dtype: int64\n",
      "\n",
      "X    8\n",
      "Name: Les variants logiciels: une richesse, mais aussi un casse-tête, dtype: int64\n",
      "\n",
      "X    9\n",
      "Name: Non, le calcul sur ordinateur n’est pas “vert”, dtype: int64\n",
      "\n",
      "X    6\n",
      "Name: Un logiciel qui se dégrade, ça veut dire quoi?, dtype: int64\n",
      "\n",
      "X    4\n",
      "Name: Autres, dtype: int64\n",
      "\n",
      "le logiciel c'est beaucoup de métiers et beaucoup de gens qui travaillent ensemble\r\n",
      "\r\n",
      "le logiciel, ça change tout le temps\n",
      "\n",
      "Plus tard.\n",
      "\n",
      "- Quelle confiance peut-on avoir dans les logiciels ?\n",
      "\n",
      "L'informatique est une sciences où les femmes peuvent apporter un regard différent et très important\r\n",
      "ou \r\n",
      "Non, l'informatique ne se résume (surtout) pas à développer des jeux sur ordinateur\r\n",
      "ou\r\n",
      "Être informaticien ce n'est pas rester toute la journée devant un ordinateur ! \n",
      "\n",
      "Les filles ont toute leur place en GL\n",
      "\n",
      "L'évolution constante du logiciel, la rendre perceptible,\r\n",
      "la quantité de logiciel dans notre vie quotidienne  \n",
      "\n",
      "qu'est-ce qu'un programme ?\r\n",
      "qu'est-ce qu'un programme peut ou ne peut pas faire ?\n",
      "\n",
      "Biais en IA, risques et opportunités de l'IA\r\n",
      "Initiation à la pensée informatique (c'est selon moi un socle pour attaquer la fracture numérique)\r\n",
      "\n",
      "\n",
      "Pouvoir des vieux langages ou langages ésotériques dans la résolution de problèmes spacifiques.\n",
      "\n"
     ]
    }
   ],
   "source": [
    "themes = [ 'L’informatique est une science', 'Développer n’est pas coder',\n",
    "       'Vérifier n’est pas tester', 'Tester, oui mais quoi ?',\n",
    "       'Des exigences au système en production',\n",
    "       'Un ordinateur n’est jamais “intelligent”', 'Maitriser vos ordinateurs',\n",
    "       'Les variants logiciels: une richesse, mais aussi un casse-tête',\n",
    "       'Non, le calcul sur ordinateur n’est pas “vert”',\n",
    "       'Un logiciel qui se dégrade, ça veut dire quoi?', 'Autres']\n",
    "\n",
    "for th in themes:\n",
    "    print(df[th].value_counts())\n",
    "    print()\n",
    "    \n",
    "for exp in df['Autre (champ libre pour préciser si nécessaire les thématiques du GPL)']:\n",
    "    if not exp is np.nan:\n",
    "        print(exp)\n",
    "        print()"
   ]
  },
  {
   "cell_type": "markdown",
   "metadata": {},
   "source": [
    "# Quels supports vous semblent les plus adaptés ?"
   ]
  },
  {
   "cell_type": "code",
   "execution_count": 8,
   "metadata": {},
   "outputs": [
    {
     "name": "stdout",
     "output_type": "stream",
     "text": [
      "X    9\n",
      "Name: vidéo 1’, dtype: int64\n",
      "X    13\n",
      "Name: vidéo 3’, dtype: int64\n",
      "Series([], Name: poster, dtype: int64)\n",
      "X    7\n",
      "Name: site web interactif, dtype: int64\n",
      "X    13\n",
      "Name: articles dans des journaux ou magasines, dtype: int64\n",
      "X    4\n",
      "Name: des jeux, dtype: int64\n",
      "X    9\n",
      "Name: autres, dtype: int64\n",
      "interventions dans les écoles et dans l'espace public (installations, chasse au trésor, hackathon, etc.)\n",
      "\n",
      "Plus tard.\n",
      "\n",
      "Séminaire de vulgarisation grand public\n",
      "\n",
      "communication lors de salons d'orientation ?\n",
      "\n",
      "\"GL camps\" dans les lycée (2nd)\n",
      "\n",
      "articles de blog \r\n",
      "post usr les réseaux sociaux\n",
      "\n",
      "webinar, table ronde, conférences (journée spéciales, lycées, collèges...)\n",
      "\n",
      "séminaires dédiés, intervention auprès du public cible, fête de la Sciences.\n",
      "\n",
      "exposé type fête de la science (avec un vrai chercheur qu'on voit et qu'on peut interroger)\n",
      "\n",
      "Intervention dans les médias.\r\n",
      "Une diffusion subliminale des compétences par des séries ou films (cf. Unité 42 produit par la RTBF, cellule informatique de la police qui aborde la sécurité et la criminalité informatique de manière crédible). Il y a une une courte série française très bien faite aussi sur le campus de Lille (j'ai oublié le titre).\r\n",
      "La sécurité comme intrigue peut servir d'étrier à tous les autres aspects du GPL, et diffuser une culture générale de la discipline de manière ludique.\r\n",
      "\n",
      "\n",
      "blog\n",
      "\n"
     ]
    }
   ],
   "source": [
    "supports = ['vidéo 1’', 'vidéo 3’', 'poster', 'site web interactif',\n",
    "       'articles dans des journaux ou magasines', 'des jeux', 'autres']\n",
    "\n",
    "for support in supports:\n",
    "    print(df[support].value_counts())\n",
    "\n",
    "for o in df['Autre (champ libre pour préciser si nécessaire les supports)']:\n",
    "    if not o is np.nan:\n",
    "        print(o)\n",
    "        print()"
   ]
  },
  {
   "cell_type": "markdown",
   "metadata": {},
   "source": [
    "# Quels verrous identifiez-vous dans votre communication relativement à vos recherches ?"
   ]
  },
  {
   "cell_type": "code",
   "execution_count": 9,
   "metadata": {},
   "outputs": [
    {
     "name": "stdout",
     "output_type": "stream",
     "text": [
      "X    10\n",
      "Name: incompréhension des collègues d’autres domaines, dtype: int64\n",
      "X    5\n",
      "Name: absence de public, dtype: int64\n",
      "X    8\n",
      "Name: difficulté à attirer des étudiants, dtype: int64\n",
      "X    4\n",
      "Name: difficulté de l’inclusion, dtype: int64\n",
      "X    8\n",
      "Name: le public croit savoir, dtype: int64\n"
     ]
    }
   ],
   "source": [
    "verrous = ['incompréhension des collègues d’autres domaines', 'absence de public',\n",
    "       'difficulté à attirer des étudiants', 'difficulté de l’inclusion',\n",
    "       'le public croit savoir']\n",
    "\n",
    "for verr in verrous: \n",
    "    print(df[verr].value_counts())"
   ]
  },
  {
   "cell_type": "markdown",
   "metadata": {},
   "source": [
    "# A priori, le logiciel est invisible (sauf quand il échoue), ne se touche pas, ne s'entend pas... comment faites-vous pour expliquer le logiciel, ses enjeux et ses problématiques ?\n"
   ]
  },
  {
   "cell_type": "code",
   "execution_count": 10,
   "metadata": {},
   "outputs": [
    {
     "name": "stdout",
     "output_type": "stream",
     "text": [
      "Quelques lignes de code dans une fusée, c'est rien, ça ne pèse rien, ça ne coute donc pas cher --> crash d'Ariane pour quelques lignes de code qui ne servaient de plus pas à la mission !\n",
      "\n",
      "l'art et la discussion\n",
      "\n",
      "Plus tard.\n",
      "\n",
      "par des applications qui touchent le quotidien \n",
      "\n",
      "prendre des exemples concrets parlant au plus grand nombre (avions, centrales nucléaires, cartes à puce, logiciels en milieu hospitalier, etc)\n",
      "\n",
      "mais le logiciel est utilisé partout ! dans nos smartphones par ex, ce sont des exemples simples et bien compris de logiciels\n",
      "\n",
      "Utilisation de métaphores\r\n",
      "Parallèle avec le génie civil pour montrer les différences\r\n",
      "Parallèle avec la production industrielle pour montrer ce qui est commun, puis différent\n",
      "\n",
      "Je fais des analogies avec des domaines connus (comme l'architecture pour les bâtiments, ou le schéma électrique d'un électronicien).\n",
      "\n",
      "dessins, presentations, schema \n",
      "\n",
      "Utilisation de RETEX et de retours d'expérience. Les exemples de la \"vraie\" vie!\n",
      "\n",
      "Facile ! Par les bugs et les impacts.\r\n",
      "Mais ramener ça aux gens qui programmes est utile\n",
      "\n",
      "Partir de situations concrètes, utiliser des exemples de la vie quotidienne, une mise en situation, jeux de rôle, ... sans recourir nécessairement à des artefacts logiciels. Le lien se fait plus tard. Exemple:\r\n",
      "Comment ranger efficacement un entrepôt ?\r\n",
      "Comment sécuriser les billets d'entrée du stade de France :-)\r\n",
      "Comment tester le helpdesk du ministère des finances ?\r\n",
      "Vous détestez telle appli, que feriez-vous pour l'améliorer ?\r\n",
      "Vous avez 1000 étudiants sous la main, vous voulez augmenter vos chances de gagner à un jeu de questions réponses par SMS. Quelle stratégie pour répartir la charge ?\r\n",
      "Je suis un fan de l'approche CS unplugged... ;-)\n",
      "\n",
      "Les limitations théoriques sont déjà inconnues. Les gens pensent souvent que les logiciels sont erronés par négligence, sans savoir que les principales propriétés souhaitées sur un logiciel sont indécidables. \n",
      "\n",
      "Vulgariser simplement quelques fonctionnement internes non-triviaux afin de montrer que la partie invisible dépasse tout entendement en terme de conception de logiciels complexes.\n",
      "\n"
     ]
    }
   ],
   "source": [
    "for x in df[\"A priori, le logiciel est invisible (sauf quand il échoue), ne se touche pas, ne s'entend pas... comment faites-vous pour expliquer le logiciel, ses enjeux et ses problématiques ?\"]:\n",
    "    if not x is np.nan:\n",
    "        print(x)\n",
    "        print()"
   ]
  },
  {
   "cell_type": "markdown",
   "metadata": {},
   "source": [
    "# Y a-t-il des initiatives, hors informatique (astrophysique, chimie, histoire, philosophie, etc.), que vous aimeriez voir transposer au GPL?"
   ]
  },
  {
   "cell_type": "code",
   "execution_count": 11,
   "metadata": {},
   "outputs": [
    {
     "name": "stdout",
     "output_type": "stream",
     "text": [
      "résidences d'artistes dans les labos\r\n",
      "ateliers avec des journalistes\n",
      "\n",
      "À voir.\n",
      "\n",
      "séminaires philosophie des maths seraient transposables au GPL \n",
      "\n",
      "Un livre de citations (à la Dilbert ;-)\n",
      "\n",
      "Maths en Jeans ?\n",
      "\n",
      "J'ai plutôt envie de citer des initiatives malheureuses en informatique, trop ancrée sur le \"codage\", sur des formations \"alimentaires\", ... qui donne une image de geek à la discipline.\r\n",
      "Des cartes blanches dans la presse.\r\n",
      "Une meilleure visibilité dans la presse scientifique (Pour la science, Science & vie, etc)\n",
      "\n",
      "\r\n",
      "La perspective historique semble intéressante. Associer les avancées à leurs auteurs est souvent un moyen de contextualiser et intéresser. \n",
      "\n",
      "Le Myriogon (https://www.youtube.com/c/LeMyriogon) par exemple (plutôt Mathématiques).\n",
      "\n"
     ]
    }
   ],
   "source": [
    "for d in df[\"Y a-t-il des initiatives, hors informatique (astrophysique, chimie, histoire, philosophie, etc.), que vous aimeriez voir transposer au GPL?\"]:\n",
    "    if not d is np.nan:\n",
    "        print(d)\n",
    "        print()"
   ]
  },
  {
   "cell_type": "markdown",
   "metadata": {},
   "source": [
    "# Des idées/commentaires sur la dissémination"
   ]
  },
  {
   "cell_type": "code",
   "execution_count": 12,
   "metadata": {},
   "outputs": [
    {
     "name": "stdout",
     "output_type": "stream",
     "text": [
      "Plus tard.\n",
      "\n",
      "reste à trouver comment toucher/impliquer plus de filles/femmes\n",
      "\n",
      "Peut être arriver à faire une chaine youtube (vidéo de courte durée) de vulgarisation sur le thème \"développer n'est pas coder\" en tournant le titre de manière plus positive, ou avec des playlists sur les thématiques à mettre en avant qui ressortiront du sondage.\n",
      "\n",
      "Impliquer un max les jeunes (et leur langage) pour parler à d'autres jeunes ;-)\n",
      "\n",
      "atelier et miniconference pour informer sur des themes precis \n",
      "\n",
      "Toujours le même problème. Préparer des interventions de ce type est couteux en temps et en énergie. Pour quelle valorisation dans nos dossiers et notre carrière? Aucune, au mieux 1 ligne dans le CV que personne ne regarde. Il ne faut pas se mentir, ce genre d'intervention c'est du bénévolat pris sur le peu de temps qu'il reste pour la recherche. \n",
      "\n",
      "Mieux reconnaître l'implication dans la dissémination dans les diverses et nombreuses évaluations\n",
      "\n",
      "Adapter la communication aux objectifs et publics cibles.\r\n",
      "Inutile de disséminer si l'on n'a pas une stratégie pour toucher les gens (un poster dans un hall vide, une vidéo youtube avec 20 vues, etc).\r\n",
      "Dans le public cible, ne pas oublier les politiques... Pour avoir organisé une conférence en BE avec des politiques, je vous assure qu'ils confondent informatique/software engineering/computer science avec la maîtrise des outils bureautique et la maîtrise des outils bureautiques. Dans le meilleur des cas, ils sont obnubilés par les buzzwords du moment comme l'IA ou le quantique. Demain, ce sera metaverse...\r\n",
      "\r\n",
      "\n",
      "\n",
      "L’un des pb majeurs est toujours que ces actions sont à la fois très difficiles et absolument pas reconnues par nos instances (pour l’HCERES, pour les dossiers, etc.). \n",
      "\n",
      "Colloquiums réguliers par des chercheurs de renom sur Logiciel (exemple https://www.lip6.fr/colloquium/) ou recherche émergente. Ça peut être des reflexions philosophiques, esthétique, de nouvelles lignes de recherche, des retours d'expérience, etc.\n",
      "\n"
     ]
    }
   ],
   "source": [
    "for idea in df[\"Des idées/commentaires sur la dissémination\"]:\n",
    "    if not idea is np.nan:\n",
    "        print(idea)\n",
    "        print()"
   ]
  },
  {
   "cell_type": "code",
   "execution_count": null,
   "metadata": {},
   "outputs": [],
   "source": []
  }
 ],
 "metadata": {
  "kernelspec": {
   "display_name": "Python 3",
   "language": "python",
   "name": "python3"
  },
  "language_info": {
   "codemirror_mode": {
    "name": "ipython",
    "version": 3
   },
   "file_extension": ".py",
   "mimetype": "text/x-python",
   "name": "python",
   "nbconvert_exporter": "python",
   "pygments_lexer": "ipython3",
   "version": "3.8.13"
  }
 },
 "nbformat": 4,
 "nbformat_minor": 4
}
